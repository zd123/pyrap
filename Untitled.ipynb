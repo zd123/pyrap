{
 "cells": [
  {
   "cell_type": "code",
   "execution_count": 3,
   "metadata": {
    "collapsed": false
   },
   "outputs": [
    {
     "data": {
      "text/plain": [
       "bs4.element.Tag"
      ]
     },
     "execution_count": 3,
     "metadata": {},
     "output_type": "execute_result"
    }
   ],
   "source": [
    "import requests\n",
    "from bs4 import BeautifulSoup\n",
    "\n",
    "agent  = 'DataWrangling/1.1 (http://zipfianacademy.com; '\n",
    "agent += 'class@zipfianacademy.com)'\n",
    "headers = {'user_agent': agent}\n",
    "\n",
    "url = 'http://www.azlyrics.com/l/lilwayne.html'\n",
    "# Wrap in a try-except to prevent a maxTry connection error from erroring\n",
    "# out the program. Return None if there are any issues.\n",
    "try:\n",
    "    r = requests.get(url, headers=headers)\n",
    "except:\n",
    "    print \"error\"\n",
    "\n",
    "# Just in case there was a normal error returned. Pass back None.\n",
    "if r.status_code != 200:\n",
    "    print \"error\"\n",
    "\n",
    "# Otherwise return a soupified object containing the url text encoded in\n",
    "# utf-8. Will toss back errors on some pages without the encoding in place.\n",
    "soup = BeautifulSoup(r.text.encode('utf-8'))\n",
    "\n",
    "songs = soup.find(\"div\", id=\"listAlbum\")\n",
    "# song_titles = []\n",
    "# songs = songs.split(\"\\n\")\n",
    "# print songs\n",
    "type(songs)"
   ]
  },
  {
   "cell_type": "code",
   "execution_count": null,
   "metadata": {
    "collapsed": true
   },
   "outputs": [],
   "source": []
  }
 ],
 "metadata": {
  "kernelspec": {
   "display_name": "Python 2",
   "language": "python",
   "name": "python2"
  },
  "language_info": {
   "codemirror_mode": {
    "name": "ipython",
    "version": 2
   },
   "file_extension": ".py",
   "mimetype": "text/x-python",
   "name": "python",
   "nbconvert_exporter": "python",
   "pygments_lexer": "ipython2",
   "version": "2.7.9"
  }
 },
 "nbformat": 4,
 "nbformat_minor": 0
}
